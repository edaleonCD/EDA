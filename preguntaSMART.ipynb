{
 "cells": [
  {
   "cell_type": "markdown",
   "metadata": {},
   "source": [
    "<H1>Taller 1 EDA PREGUNTA SMART</h1>"
   ]
  },
  {
   "cell_type": "markdown",
   "metadata": {
    "slideshow": {
     "slide_type": "slide"
    }
   },
   "source": [
    "<h3>Problema</h3>En un sistema de medición que abarca hasta 100,000 equipos — incluyendo medidores, sensores y equipos de comunicación — distribuidos en varias ciudades del país, los mecanismos para identificar equipos en falla tardan más de 10 días y se basan en factores externos a la red, lo que resulta en un desgaste innecesario en áreas que no requieren mantenimiento..\n",
    "<h3>Pregunta SMART</h3><b>¿Cuáles equipos específicos del sistema de medición inteligente han presentado fallas individuales o del sistema en los últimos 3 meses y requieren mantenimiento correctivo?</b>\n",
    "<h3>Cómo la ciencia de datos puede ofrecer una solución</h3>La ciencia de datos puede ofrecer una solución efectiva. Dado que disponemos de información sobre el funcionamiento de los equipos, podemos emplear análisis predictivo para identificar las condiciones en las que un medidor comunica correctamente o presenta problemas. Además, el uso de algoritmos de detección de anomalías puede ayudar a identificar datos inusuales. Así, la ciencia de datos permite optimizar los recursos y mejorar el mantenimiento preventivo y correctivo, reduciendo así los costos asociados."
   ]
  },
  {
   "cell_type": "markdown",
   "metadata": {},
   "source": [
    "<H1>Taller 2 EDA ANÁLISIS UNIVARIADO</H1>"
   ]
  },
  {
   "cell_type": "code",
   "execution_count": 2,
   "metadata": {},
   "outputs": [],
   "source": [
    "# bibliotecas para manipulación de datos\n",
    "import pandas as pd\n",
    "\n",
    "# bibliotecas para visualización\n",
    "import matplotlib.pyplot as plt\n",
    "import seaborn as sns\n"
   ]
  },
  {
   "cell_type": "code",
   "execution_count": 21,
   "metadata": {},
   "outputs": [],
   "source": [
    "#se carga el dataset\n",
    "#Se agrega la opción dtype='unicode' porque se generó el error : 'DtypeWarning: Columns (0,1,5,8) have mixed types. Specify dtype option on import or set low_memory=False.'\n",
    "#Se agrega opción para evitar warning\n",
    "\n",
    "df = pd.read_csv('exportBDeda.csv',dtype='unicode',low_memory=False)"
   ]
  },
  {
   "cell_type": "code",
   "execution_count": 22,
   "metadata": {},
   "outputs": [
    {
     "data": {
      "text/html": [
       "<div>\n",
       "<style scoped>\n",
       "    .dataframe tbody tr th:only-of-type {\n",
       "        vertical-align: middle;\n",
       "    }\n",
       "\n",
       "    .dataframe tbody tr th {\n",
       "        vertical-align: top;\n",
       "    }\n",
       "\n",
       "    .dataframe thead th {\n",
       "        text-align: right;\n",
       "    }\n",
       "</style>\n",
       "<table border=\"1\" class=\"dataframe\">\n",
       "  <thead>\n",
       "    <tr style=\"text-align: right;\">\n",
       "      <th></th>\n",
       "      <th>METER_NO</th>\n",
       "      <th>MEASURING_POINT</th>\n",
       "      <th>STATUS</th>\n",
       "      <th>DATE_TIME</th>\n",
       "      <th>CHANNEL</th>\n",
       "      <th>DATA_VALUE</th>\n",
       "      <th>UNIT_MEASUREMENT</th>\n",
       "      <th>CODE_OBIS</th>\n",
       "      <th>TRANSFORMER</th>\n",
       "      <th>REGION</th>\n",
       "    </tr>\n",
       "  </thead>\n",
       "  <tbody>\n",
       "    <tr>\n",
       "      <th>0</th>\n",
       "      <td>9b3a007f</td>\n",
       "      <td>788353f5</td>\n",
       "      <td>StockPending</td>\n",
       "      <td>2024/04/29 18:20:00</td>\n",
       "      <td>Import kWh</td>\n",
       "      <td>0.14</td>\n",
       "      <td>kWh</td>\n",
       "      <td>1.0.1.8.0.255</td>\n",
       "      <td>b79a2310</td>\n",
       "      <td>89c6e3b1</td>\n",
       "    </tr>\n",
       "    <tr>\n",
       "      <th>1</th>\n",
       "      <td>9b3a007f</td>\n",
       "      <td>788353f5</td>\n",
       "      <td>StockPending</td>\n",
       "      <td>2024/04/29 18:50:00</td>\n",
       "      <td>Interval-LP Import kVarh</td>\n",
       "      <td>0.0</td>\n",
       "      <td>kVarh</td>\n",
       "      <td>1.0.3.29.0.255</td>\n",
       "      <td>b79a2310</td>\n",
       "      <td>89c6e3b1</td>\n",
       "    </tr>\n",
       "    <tr>\n",
       "      <th>2</th>\n",
       "      <td>9b3a007f</td>\n",
       "      <td>788353f5</td>\n",
       "      <td>StockPending</td>\n",
       "      <td>2024/04/29 19:15:00</td>\n",
       "      <td>Export kWh</td>\n",
       "      <td>0.065</td>\n",
       "      <td>kWh</td>\n",
       "      <td>1.0.2.8.0.255</td>\n",
       "      <td>b79a2310</td>\n",
       "      <td>89c6e3b1</td>\n",
       "    </tr>\n",
       "    <tr>\n",
       "      <th>3</th>\n",
       "      <td>9b3a007f</td>\n",
       "      <td>788353f5</td>\n",
       "      <td>StockPending</td>\n",
       "      <td>2024/04/29 20:40:00</td>\n",
       "      <td>Interval-LP Import kWh</td>\n",
       "      <td>0.0</td>\n",
       "      <td>kWh</td>\n",
       "      <td>1.0.1.29.0.255</td>\n",
       "      <td>b79a2310</td>\n",
       "      <td>89c6e3b1</td>\n",
       "    </tr>\n",
       "    <tr>\n",
       "      <th>4</th>\n",
       "      <td>9b3a007f</td>\n",
       "      <td>788353f5</td>\n",
       "      <td>StockPending</td>\n",
       "      <td>2024/04/29 21:20:00</td>\n",
       "      <td>Interval-LP Import kWh</td>\n",
       "      <td>0.0</td>\n",
       "      <td>kWh</td>\n",
       "      <td>1.0.1.29.0.255</td>\n",
       "      <td>b79a2310</td>\n",
       "      <td>89c6e3b1</td>\n",
       "    </tr>\n",
       "  </tbody>\n",
       "</table>\n",
       "</div>"
      ],
      "text/plain": [
       "   METER_NO MEASURING_POINT        STATUS            DATE_TIME  \\\n",
       "0  9b3a007f        788353f5  StockPending  2024/04/29 18:20:00   \n",
       "1  9b3a007f        788353f5  StockPending  2024/04/29 18:50:00   \n",
       "2  9b3a007f        788353f5  StockPending  2024/04/29 19:15:00   \n",
       "3  9b3a007f        788353f5  StockPending  2024/04/29 20:40:00   \n",
       "4  9b3a007f        788353f5  StockPending  2024/04/29 21:20:00   \n",
       "\n",
       "                    CHANNEL DATA_VALUE UNIT_MEASUREMENT       CODE_OBIS  \\\n",
       "0                Import kWh       0.14              kWh   1.0.1.8.0.255   \n",
       "1  Interval-LP Import kVarh        0.0            kVarh  1.0.3.29.0.255   \n",
       "2                Export kWh      0.065              kWh   1.0.2.8.0.255   \n",
       "3    Interval-LP Import kWh        0.0              kWh  1.0.1.29.0.255   \n",
       "4    Interval-LP Import kWh        0.0              kWh  1.0.1.29.0.255   \n",
       "\n",
       "  TRANSFORMER    REGION  \n",
       "0    b79a2310  89c6e3b1  \n",
       "1    b79a2310  89c6e3b1  \n",
       "2    b79a2310  89c6e3b1  \n",
       "3    b79a2310  89c6e3b1  \n",
       "4    b79a2310  89c6e3b1  "
      ]
     },
     "execution_count": 22,
     "metadata": {},
     "output_type": "execute_result"
    }
   ],
   "source": [
    "#Se revisa la cabecera y los primeros datos, se observa valores nulos en algunas columnas y hay una columna channel que contiene el valor de la variable que se está leyendo.\n",
    "#La columna status tiene un valor Unknown que se debe tratar como un NaN\n",
    "df.head()"
   ]
  },
  {
   "cell_type": "code",
   "execution_count": 5,
   "metadata": {},
   "outputs": [
    {
     "data": {
      "text/html": [
       "<div>\n",
       "<style scoped>\n",
       "    .dataframe tbody tr th:only-of-type {\n",
       "        vertical-align: middle;\n",
       "    }\n",
       "\n",
       "    .dataframe tbody tr th {\n",
       "        vertical-align: top;\n",
       "    }\n",
       "\n",
       "    .dataframe thead th {\n",
       "        text-align: right;\n",
       "    }\n",
       "</style>\n",
       "<table border=\"1\" class=\"dataframe\">\n",
       "  <thead>\n",
       "    <tr style=\"text-align: right;\">\n",
       "      <th></th>\n",
       "      <th>METER_NO</th>\n",
       "      <th>MEASURING_POINT</th>\n",
       "      <th>STATUS</th>\n",
       "      <th>DATE_TIME</th>\n",
       "      <th>CHANNEL</th>\n",
       "      <th>DATA_VALUE</th>\n",
       "      <th>UNIT_MEASUREMENT</th>\n",
       "      <th>CODE_OBIS</th>\n",
       "      <th>TRANSFORMER</th>\n",
       "      <th>REGION</th>\n",
       "    </tr>\n",
       "  </thead>\n",
       "  <tbody>\n",
       "    <tr>\n",
       "      <th>456273</th>\n",
       "      <td>ca5405f5</td>\n",
       "      <td>ca5405f5</td>\n",
       "      <td>InstallWithActive</td>\n",
       "      <td>2024/01/02 02:00:00</td>\n",
       "      <td>L2 Last average current</td>\n",
       "      <td>0.44</td>\n",
       "      <td>A</td>\n",
       "      <td>1.0.51.25.0.255</td>\n",
       "      <td>a1119d11</td>\n",
       "      <td>4e15a7ca</td>\n",
       "    </tr>\n",
       "    <tr>\n",
       "      <th>456274</th>\n",
       "      <td>ca5405f5</td>\n",
       "      <td>ca5405f5</td>\n",
       "      <td>InstallWithActive</td>\n",
       "      <td>2024/01/03 00:00:00</td>\n",
       "      <td>Import kWh</td>\n",
       "      <td>2522.605</td>\n",
       "      <td>kWh</td>\n",
       "      <td>1.0.1.8.0.255</td>\n",
       "      <td>a1119d11</td>\n",
       "      <td>4e15a7ca</td>\n",
       "    </tr>\n",
       "    <tr>\n",
       "      <th>456275</th>\n",
       "      <td>ca5405f5</td>\n",
       "      <td>ca5405f5</td>\n",
       "      <td>InstallWithActive</td>\n",
       "      <td>2024/01/03 01:00:00</td>\n",
       "      <td>L2 Last average current</td>\n",
       "      <td>0.48</td>\n",
       "      <td>A</td>\n",
       "      <td>1.0.51.25.0.255</td>\n",
       "      <td>a1119d11</td>\n",
       "      <td>4e15a7ca</td>\n",
       "    </tr>\n",
       "    <tr>\n",
       "      <th>456276</th>\n",
       "      <td>ca5405f5</td>\n",
       "      <td>ca5405f5</td>\n",
       "      <td>InstallWithActive</td>\n",
       "      <td>2024/01/03 03:00:00</td>\n",
       "      <td>L3 Last average voltage</td>\n",
       "      <td>124.9</td>\n",
       "      <td>V</td>\n",
       "      <td>1.0.72.25.0.255</td>\n",
       "      <td>a1119d11</td>\n",
       "      <td>4e15a7ca</td>\n",
       "    </tr>\n",
       "    <tr>\n",
       "      <th>456277</th>\n",
       "      <td>ca5405f5</td>\n",
       "      <td>ca5405f5</td>\n",
       "      <td>InstallWithActive</td>\n",
       "      <td>2024/01/02 08:00:00</td>\n",
       "      <td>L3 Last average current</td>\n",
       "      <td>0.72</td>\n",
       "      <td>A</td>\n",
       "      <td>1.0.71.25.0.255</td>\n",
       "      <td>a1119d11</td>\n",
       "      <td>4e15a7ca</td>\n",
       "    </tr>\n",
       "  </tbody>\n",
       "</table>\n",
       "</div>"
      ],
      "text/plain": [
       "        METER_NO MEASURING_POINT             STATUS            DATE_TIME  \\\n",
       "456273  ca5405f5        ca5405f5  InstallWithActive  2024/01/02 02:00:00   \n",
       "456274  ca5405f5        ca5405f5  InstallWithActive  2024/01/03 00:00:00   \n",
       "456275  ca5405f5        ca5405f5  InstallWithActive  2024/01/03 01:00:00   \n",
       "456276  ca5405f5        ca5405f5  InstallWithActive  2024/01/03 03:00:00   \n",
       "456277  ca5405f5        ca5405f5  InstallWithActive  2024/01/02 08:00:00   \n",
       "\n",
       "                        CHANNEL DATA_VALUE UNIT_MEASUREMENT        CODE_OBIS  \\\n",
       "456273  L2 Last average current       0.44                A  1.0.51.25.0.255   \n",
       "456274               Import kWh   2522.605              kWh    1.0.1.8.0.255   \n",
       "456275  L2 Last average current       0.48                A  1.0.51.25.0.255   \n",
       "456276  L3 Last average voltage      124.9                V  1.0.72.25.0.255   \n",
       "456277  L3 Last average current       0.72                A  1.0.71.25.0.255   \n",
       "\n",
       "       TRANSFORMER    REGION  \n",
       "456273    a1119d11  4e15a7ca  \n",
       "456274    a1119d11  4e15a7ca  \n",
       "456275    a1119d11  4e15a7ca  \n",
       "456276    a1119d11  4e15a7ca  \n",
       "456277    a1119d11  4e15a7ca  "
      ]
     },
     "execution_count": 5,
     "metadata": {},
     "output_type": "execute_result"
    }
   ],
   "source": [
    "#al observar los últimos datos se observan valores válidos para variables como transformer,region,measuring_point y status.\n",
    "df.tail()"
   ]
  },
  {
   "cell_type": "code",
   "execution_count": 6,
   "metadata": {},
   "outputs": [
    {
     "data": {
      "text/plain": [
       "(456278, 10)"
      ]
     },
     "execution_count": 6,
     "metadata": {},
     "output_type": "execute_result"
    }
   ],
   "source": [
    "#Tamaño del dataset\n",
    "df.shape"
   ]
  },
  {
   "cell_type": "code",
   "execution_count": 7,
   "metadata": {},
   "outputs": [
    {
     "data": {
      "text/plain": [
       "np.int64(0)"
      ]
     },
     "execution_count": 7,
     "metadata": {},
     "output_type": "execute_result"
    }
   ],
   "source": [
    "#Validamos valores duplicados\n",
    "df.duplicated().sum()"
   ]
  },
  {
   "cell_type": "code",
   "execution_count": 8,
   "metadata": {},
   "outputs": [],
   "source": [
    "#Eliminamos duplicados\n",
    "df.drop_duplicates(inplace=True)"
   ]
  },
  {
   "cell_type": "code",
   "execution_count": 9,
   "metadata": {},
   "outputs": [
    {
     "data": {
      "text/plain": [
       "np.int64(0)"
      ]
     },
     "execution_count": 9,
     "metadata": {},
     "output_type": "execute_result"
    }
   ],
   "source": [
    "#Validamos nuevamente valores duplicados\n",
    "df.duplicated().sum()"
   ]
  },
  {
   "cell_type": "code",
   "execution_count": 34,
   "metadata": {},
   "outputs": [],
   "source": [
    "#Al revisar con el ingeniero de datos observa que las columnas channel,unit_measurenment,code_obis son directamente extraidas de una tabla categorica por lo que para el ánalisis solo es\n",
    "#una de estas 3 columnas, la llave es code_obis por lo que se procede a eliminar las columnas unit_measurement y channel\n",
    "\n",
    "df.drop(columns=['CHANNEL','UNIT_MEASUREMENT'],inplace=True)\n"
   ]
  },
  {
   "cell_type": "code",
   "execution_count": 31,
   "metadata": {},
   "outputs": [],
   "source": [
    "#De acuerdo con el negocio solo se está interesado en medidores con status InstallWithActive, ya que un medidor en estado diferente a InstallWithActive quiere decir que no se encuentra en opercaión\n",
    "#son medidores retirados o en pruebas.\n",
    "\n",
    "#Se eliminan las filas con medidores inactivos.\n",
    "\n",
    "df.drop(df[df['STATUS'] != 'InstallWithActive'].index,inplace=True)"
   ]
  },
  {
   "cell_type": "code",
   "execution_count": 37,
   "metadata": {},
   "outputs": [
    {
     "data": {
      "text/plain": [
       "CODE_OBIS\n",
       "1.0.2.29.0.255     21577\n",
       "1.0.3.4.0.255      21577\n",
       "1.0.72.25.0.255    21577\n",
       "1.0.4.29.0.255     21577\n",
       "1.0.32.25.0.255    21577\n",
       "1.0.3.8.0.255      21577\n",
       "1.0.52.25.0.255    21577\n",
       "1.0.4.8.0.255      21577\n",
       "1.0.51.25.0.255    21577\n",
       "1.0.2.4.0.255      21577\n",
       "1.0.4.4.0.255      21577\n",
       "0.0.96.12.5.255    21577\n",
       "1.0.1.29.0.255     21577\n",
       "1.0.31.25.0.255    21577\n",
       "1.0.1.4.0.255      21577\n",
       "1.0.71.25.0.255    21577\n",
       "1.0.2.8.0.255      21577\n",
       "1.0.3.29.0.255     21577\n",
       "0.0.96.10.1.255    21577\n",
       "1.0.1.8.0.255      21566\n",
       "0.0.96.10.2.255      902\n",
       "Name: count, dtype: int64"
      ]
     },
     "execution_count": 37,
     "metadata": {},
     "output_type": "execute_result"
    }
   ],
   "source": [
    "#Al revisar los valores de los canales, el canal primario que es Import kWh está en cuarta posición, se esperaba que esté de primero debido a que todos los medidores sin exepción deben tener este canal\n",
    "#Por lo tanto, se concluye que hay pérdida de datos por ausencia de canales. \n",
    "# \n",
    "# 2024-09-01 -> Con la limpieza de datos propuesta y focalizandose en los medidores activos la calidad de en los canales mejora.\n",
    "df.CODE_OBIS.value_counts()"
   ]
  },
  {
   "cell_type": "code",
   "execution_count": 12,
   "metadata": {},
   "outputs": [],
   "source": [
    "#Pivotar el DataFrame \n",
    "#Se hace el pivot para poder trabajar con información estadistica sobre cualquier variable, además que si falta un canal se puede estimar en base a los otros \n",
    "df_pivot = df.pivot_table(index=['METER_NO','DATE_TIME'],\n",
    "                          columns='CHANNEL',\n",
    "                          values='DATA_VALUE',\n",
    "                          aggfunc='sum').reset_index()\n",
    "\n",
    "# Eliminar la jerarquía de las columnas ???\n",
    "df_pivot.columns.name = None\n"
   ]
  },
  {
   "cell_type": "code",
   "execution_count": 13,
   "metadata": {},
   "outputs": [],
   "source": [
    "#Se eliminan las variables que tienen muy poca frecuencia\n",
    "\n",
    "df_pivot.drop(columns=df.CHANNEL.value_counts()[df.CHANNEL.value_counts() < 10000].index,inplace=True)"
   ]
  },
  {
   "cell_type": "code",
   "execution_count": 14,
   "metadata": {},
   "outputs": [
    {
     "data": {
      "text/plain": [
       "(24228, 22)"
      ]
     },
     "execution_count": 14,
     "metadata": {},
     "output_type": "execute_result"
    }
   ],
   "source": [
    "df_pivot.shape"
   ]
  },
  {
   "cell_type": "code",
   "execution_count": 15,
   "metadata": {},
   "outputs": [
    {
     "data": {
      "text/html": [
       "<div>\n",
       "<style scoped>\n",
       "    .dataframe tbody tr th:only-of-type {\n",
       "        vertical-align: middle;\n",
       "    }\n",
       "\n",
       "    .dataframe tbody tr th {\n",
       "        vertical-align: top;\n",
       "    }\n",
       "\n",
       "    .dataframe thead th {\n",
       "        text-align: right;\n",
       "    }\n",
       "</style>\n",
       "<table border=\"1\" class=\"dataframe\">\n",
       "  <thead>\n",
       "    <tr style=\"text-align: right;\">\n",
       "      <th></th>\n",
       "      <th>METER_NO</th>\n",
       "      <th>DATE_TIME</th>\n",
       "      <th>Billing Status 2</th>\n",
       "      <th>DemandForActiveExportPower</th>\n",
       "      <th>DemandForActiveImportPower</th>\n",
       "      <th>DemandForReactiveExportPower</th>\n",
       "      <th>DemandForReactiveImportPower</th>\n",
       "      <th>Export kVarh</th>\n",
       "      <th>Export kWh</th>\n",
       "      <th>Import kVarh</th>\n",
       "      <th>...</th>\n",
       "      <th>Interval-LP Export kWh</th>\n",
       "      <th>Interval-LP Import kVarh</th>\n",
       "      <th>Interval-LP Import kWh</th>\n",
       "      <th>L1 Last average current</th>\n",
       "      <th>L1 Last average voltage</th>\n",
       "      <th>L2 Last average current</th>\n",
       "      <th>L2 Last average voltage</th>\n",
       "      <th>L3 Last average current</th>\n",
       "      <th>L3 Last average voltage</th>\n",
       "      <th>Signal strength</th>\n",
       "    </tr>\n",
       "  </thead>\n",
       "  <tbody>\n",
       "    <tr>\n",
       "      <th>0</th>\n",
       "      <td>279e5093</td>\n",
       "      <td>2024/01/01 00:00:00</td>\n",
       "      <td>0.0</td>\n",
       "      <td>0.0</td>\n",
       "      <td>0.188</td>\n",
       "      <td>0.0</td>\n",
       "      <td>0.046</td>\n",
       "      <td>0.342</td>\n",
       "      <td>0.001</td>\n",
       "      <td>240.308</td>\n",
       "      <td>...</td>\n",
       "      <td>0.0</td>\n",
       "      <td>0.049</td>\n",
       "      <td>0.202</td>\n",
       "      <td>0.86</td>\n",
       "      <td>129.9</td>\n",
       "      <td>0.0</td>\n",
       "      <td>129.2</td>\n",
       "      <td>0.69</td>\n",
       "      <td>129.1</td>\n",
       "      <td>20.0</td>\n",
       "    </tr>\n",
       "    <tr>\n",
       "      <th>1</th>\n",
       "      <td>279e5093</td>\n",
       "      <td>2024/01/01 01:00:00</td>\n",
       "      <td>0.0</td>\n",
       "      <td>0.0</td>\n",
       "      <td>0.178</td>\n",
       "      <td>0.0</td>\n",
       "      <td>0.06</td>\n",
       "      <td>0.342</td>\n",
       "      <td>0.001</td>\n",
       "      <td>240.355</td>\n",
       "      <td>...</td>\n",
       "      <td>0.0</td>\n",
       "      <td>0.047</td>\n",
       "      <td>0.182</td>\n",
       "      <td>0.73</td>\n",
       "      <td>129.4</td>\n",
       "      <td>0.0</td>\n",
       "      <td>128.5</td>\n",
       "      <td>0.67</td>\n",
       "      <td>128.3</td>\n",
       "      <td>19.0</td>\n",
       "    </tr>\n",
       "    <tr>\n",
       "      <th>2</th>\n",
       "      <td>279e5093</td>\n",
       "      <td>2024/01/01 02:00:00</td>\n",
       "      <td>0.0</td>\n",
       "      <td>0.0</td>\n",
       "      <td>0.149</td>\n",
       "      <td>0.0</td>\n",
       "      <td>0.057</td>\n",
       "      <td>0.342</td>\n",
       "      <td>0.001</td>\n",
       "      <td>240.397</td>\n",
       "      <td>...</td>\n",
       "      <td>0.0</td>\n",
       "      <td>0.042</td>\n",
       "      <td>0.15</td>\n",
       "      <td>0.72</td>\n",
       "      <td>129.6</td>\n",
       "      <td>0.0</td>\n",
       "      <td>128.7</td>\n",
       "      <td>0.56</td>\n",
       "      <td>128.6</td>\n",
       "      <td>19.0</td>\n",
       "    </tr>\n",
       "    <tr>\n",
       "      <th>3</th>\n",
       "      <td>279e5093</td>\n",
       "      <td>2024/01/01 03:00:00</td>\n",
       "      <td>0.0</td>\n",
       "      <td>0.0</td>\n",
       "      <td>0.12</td>\n",
       "      <td>0.0</td>\n",
       "      <td>0.036</td>\n",
       "      <td>0.342</td>\n",
       "      <td>0.001</td>\n",
       "      <td>240.436</td>\n",
       "      <td>...</td>\n",
       "      <td>0.0</td>\n",
       "      <td>0.039</td>\n",
       "      <td>0.128</td>\n",
       "      <td>0.54</td>\n",
       "      <td>129.9</td>\n",
       "      <td>0.0</td>\n",
       "      <td>128.9</td>\n",
       "      <td>0.44</td>\n",
       "      <td>128.9</td>\n",
       "      <td>18.0</td>\n",
       "    </tr>\n",
       "    <tr>\n",
       "      <th>4</th>\n",
       "      <td>279e5093</td>\n",
       "      <td>2024/01/01 04:00:00</td>\n",
       "      <td>0.0</td>\n",
       "      <td>0.0</td>\n",
       "      <td>0.118</td>\n",
       "      <td>0.0</td>\n",
       "      <td>0.044</td>\n",
       "      <td>0.342</td>\n",
       "      <td>0.001</td>\n",
       "      <td>240.474</td>\n",
       "      <td>...</td>\n",
       "      <td>0.0</td>\n",
       "      <td>0.038</td>\n",
       "      <td>0.112</td>\n",
       "      <td>0.54</td>\n",
       "      <td>130.1</td>\n",
       "      <td>0.0</td>\n",
       "      <td>129.0</td>\n",
       "      <td>0.36</td>\n",
       "      <td>129.0</td>\n",
       "      <td>18.0</td>\n",
       "    </tr>\n",
       "  </tbody>\n",
       "</table>\n",
       "<p>5 rows × 22 columns</p>\n",
       "</div>"
      ],
      "text/plain": [
       "   METER_NO            DATE_TIME Billing Status 2 DemandForActiveExportPower  \\\n",
       "0  279e5093  2024/01/01 00:00:00              0.0                        0.0   \n",
       "1  279e5093  2024/01/01 01:00:00              0.0                        0.0   \n",
       "2  279e5093  2024/01/01 02:00:00              0.0                        0.0   \n",
       "3  279e5093  2024/01/01 03:00:00              0.0                        0.0   \n",
       "4  279e5093  2024/01/01 04:00:00              0.0                        0.0   \n",
       "\n",
       "  DemandForActiveImportPower DemandForReactiveExportPower  \\\n",
       "0                      0.188                          0.0   \n",
       "1                      0.178                          0.0   \n",
       "2                      0.149                          0.0   \n",
       "3                       0.12                          0.0   \n",
       "4                      0.118                          0.0   \n",
       "\n",
       "  DemandForReactiveImportPower Export kVarh Export kWh Import kVarh  ...  \\\n",
       "0                        0.046        0.342      0.001      240.308  ...   \n",
       "1                         0.06        0.342      0.001      240.355  ...   \n",
       "2                        0.057        0.342      0.001      240.397  ...   \n",
       "3                        0.036        0.342      0.001      240.436  ...   \n",
       "4                        0.044        0.342      0.001      240.474  ...   \n",
       "\n",
       "  Interval-LP Export kWh Interval-LP Import kVarh Interval-LP Import kWh  \\\n",
       "0                    0.0                    0.049                  0.202   \n",
       "1                    0.0                    0.047                  0.182   \n",
       "2                    0.0                    0.042                   0.15   \n",
       "3                    0.0                    0.039                  0.128   \n",
       "4                    0.0                    0.038                  0.112   \n",
       "\n",
       "  L1 Last average current L1 Last average voltage L2 Last average current  \\\n",
       "0                    0.86                   129.9                     0.0   \n",
       "1                    0.73                   129.4                     0.0   \n",
       "2                    0.72                   129.6                     0.0   \n",
       "3                    0.54                   129.9                     0.0   \n",
       "4                    0.54                   130.1                     0.0   \n",
       "\n",
       "  L2 Last average voltage L3 Last average current L3 Last average voltage  \\\n",
       "0                   129.2                    0.69                   129.1   \n",
       "1                   128.5                    0.67                   128.3   \n",
       "2                   128.7                    0.56                   128.6   \n",
       "3                   128.9                    0.44                   128.9   \n",
       "4                   129.0                    0.36                   129.0   \n",
       "\n",
       "  Signal strength  \n",
       "0            20.0  \n",
       "1            19.0  \n",
       "2            19.0  \n",
       "3            18.0  \n",
       "4            18.0  \n",
       "\n",
       "[5 rows x 22 columns]"
      ]
     },
     "execution_count": 15,
     "metadata": {},
     "output_type": "execute_result"
    }
   ],
   "source": [
    "df_pivot.head()"
   ]
  },
  {
   "cell_type": "code",
   "execution_count": 16,
   "metadata": {},
   "outputs": [
    {
     "data": {
      "text/plain": [
       "METER_NO                        object\n",
       "DATE_TIME                       object\n",
       "Billing Status 2                object\n",
       "DemandForActiveExportPower      object\n",
       "DemandForActiveImportPower      object\n",
       "DemandForReactiveExportPower    object\n",
       "DemandForReactiveImportPower    object\n",
       "Export kVarh                    object\n",
       "Export kWh                      object\n",
       "Import kVarh                    object\n",
       "Import kWh                      object\n",
       "Interval-LP Export kVarh        object\n",
       "Interval-LP Export kWh          object\n",
       "Interval-LP Import kVarh        object\n",
       "Interval-LP Import kWh          object\n",
       "L1 Last average current         object\n",
       "L1 Last average voltage         object\n",
       "L2 Last average current         object\n",
       "L2 Last average voltage         object\n",
       "L3 Last average current         object\n",
       "L3 Last average voltage         object\n",
       "Signal strength                 object\n",
       "dtype: object"
      ]
     },
     "execution_count": 16,
     "metadata": {},
     "output_type": "execute_result"
    }
   ],
   "source": [
    "#Se analiza la variable DATE_TIME\n",
    "df_pivot.dtypes"
   ]
  },
  {
   "cell_type": "code",
   "execution_count": 17,
   "metadata": {},
   "outputs": [],
   "source": [
    "#Ajustamos la columna de fecha a datetime\n",
    "df_pivot['DATE_TIME'] = pd.to_datetime(df_pivot['DATE_TIME'])\n"
   ]
  },
  {
   "cell_type": "code",
   "execution_count": 18,
   "metadata": {},
   "outputs": [
    {
     "data": {
      "text/plain": [
       "METER_NO                                object\n",
       "DATE_TIME                       datetime64[ns]\n",
       "Billing Status 2                        object\n",
       "DemandForActiveExportPower              object\n",
       "DemandForActiveImportPower              object\n",
       "DemandForReactiveExportPower            object\n",
       "DemandForReactiveImportPower            object\n",
       "Export kVarh                            object\n",
       "Export kWh                              object\n",
       "Import kVarh                            object\n",
       "Import kWh                              object\n",
       "Interval-LP Export kVarh                object\n",
       "Interval-LP Export kWh                  object\n",
       "Interval-LP Import kVarh                object\n",
       "Interval-LP Import kWh                  object\n",
       "L1 Last average current                 object\n",
       "L1 Last average voltage                 object\n",
       "L2 Last average current                 object\n",
       "L2 Last average voltage                 object\n",
       "L3 Last average current                 object\n",
       "L3 Last average voltage                 object\n",
       "Signal strength                         object\n",
       "dtype: object"
      ]
     },
     "execution_count": 18,
     "metadata": {},
     "output_type": "execute_result"
    }
   ],
   "source": [
    "df_pivot.dtypes"
   ]
  },
  {
   "cell_type": "code",
   "execution_count": 19,
   "metadata": {},
   "outputs": [
    {
     "data": {
      "text/plain": [
       "<Axes: >"
      ]
     },
     "execution_count": 19,
     "metadata": {},
     "output_type": "execute_result"
    },
    {
     "data": {
      "image/png": "[encoded data removed]",
      "text/plain": [
       "<Figure size 640x480 with 1 Axes>"
      ]
     },
     "metadata": {},
     "output_type": "display_data"
    }
   ],
   "source": [
    "#Analizamos la columna datetime\n",
    "df_pivot['DATE_TIME'].hist(bins=50)"
   ]
  },
  {
   "cell_type": "code",
   "execution_count": 20,
   "metadata": {},
   "outputs": [],
   "source": [
    "#CONLUSIONES\n",
    "\n",
    "#COLUMNA DATETIME\n",
    "#Al hacer el ánalisis univariable de la columna DATE_TIME se evidencia que hora a hora se pierde información de los medidores, el sistema transaccional en sí debería recuperar la información\n",
    "#sin embargo, se considera conveniente trabajar en estimaciones sobre los valores nulos para tener un dataset más completo para obtener anomalías más díficiles de detectar basadas en la medida y la integridad de los datos\n",
    "\n"
   ]
  },
  {
   "cell_type": "code",
   "execution_count": null,
   "metadata": {},
   "outputs": [],
   "source": []
  }
 ],
 "metadata": {
  "kernelspec": {
   "display_name": "Python 3",
   "language": "python",
   "name": "python3"
  },
  "language_info": {
   "codemirror_mode": {
    "name": "ipython",
    "version": 3
   },
   "file_extension": ".py",
   "mimetype": "text/x-python",
   "name": "python",
   "nbconvert_exporter": "python",
   "pygments_lexer": "ipython3",
   "version": "3.12.5"
  }
 },
 "nbformat": 4,
 "nbformat_minor": 2
}
