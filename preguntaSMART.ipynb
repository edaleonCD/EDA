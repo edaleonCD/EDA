{
 "cells": [
  {
   "cell_type": "markdown",
   "metadata": {},
   "source": [
    "<H1>Taller 1 EDA PREGUNTA SMART</h1>"
   ]
  },
  {
   "cell_type": "markdown",
   "metadata": {
    "slideshow": {
     "slide_type": "slide"
    }
   },
   "source": [
    "<h3>Problema</h3>En un sistema de medición que abarca hasta 100,000 equipos — incluyendo medidores, sensores y equipos de comunicación — distribuidos en varias ciudades del país, los mecanismos para identificar equipos en falla tardan más de 10 días y se basan en factores externos a la red, lo que resulta en un desgaste innecesario en áreas que no requieren mantenimiento..\n",
    "<h3>Pregunta SMART</h3><b>¿Cuáles equipos específicos del sistema de medición inteligente han presentado fallas individuales o del sistema en los últimos 3 meses y requieren mantenimiento correctivo?</b>\n",
    "<h3>Cómo la ciencia de datos puede ofrecer una solución</h3>La ciencia de datos puede ofrecer una solución efectiva. Dado que disponemos de información sobre el funcionamiento de los equipos, podemos emplear análisis predictivo para identificar las condiciones en las que un medidor comunica correctamente o presenta problemas. Además, el uso de algoritmos de detección de anomalías puede ayudar a identificar datos inusuales. Así, la ciencia de datos permite optimizar los recursos y mejorar el mantenimiento preventivo y correctivo, reduciendo así los costos asociados."
   ]
  },
  {
   "cell_type": "markdown",
   "metadata": {},
   "source": [
    "<H1>Taller 2 EDA ANÁLISIS UNIVARIADO</H1>"
   ]
  },
  {
   "cell_type": "code",
   "execution_count": 2,
   "metadata": {},
   "outputs": [],
   "source": [
    "import pandas as pd\n",
    "\n",
    "import matplotlib.pyplot as plt\n",
    "import seaborn as sns\n"
   ]
  },
  {
   "cell_type": "code",
   "execution_count": 3,
   "metadata": {},
   "outputs": [],
   "source": [
    "#se carga el dataset\n",
    "#Se agrega la opción dtype='unicode' porque se generó el error : 'DtypeWarning: Columns (0,1,5,8) have mixed types. Specify dtype option on import or set low_memory=False.'\n",
    "\n",
    "df = pd.read_csv('exportBDeda.csv',dtype='unicode')"
   ]
  },
  {
   "cell_type": "code",
   "execution_count": 4,
   "metadata": {},
   "outputs": [
    {
     "data": {
      "text/html": [
       "<div>\n",
       "<style scoped>\n",
       "    .dataframe tbody tr th:only-of-type {\n",
       "        vertical-align: middle;\n",
       "    }\n",
       "\n",
       "    .dataframe tbody tr th {\n",
       "        vertical-align: top;\n",
       "    }\n",
       "\n",
       "    .dataframe thead th {\n",
       "        text-align: right;\n",
       "    }\n",
       "</style>\n",
       "<table border=\"1\" class=\"dataframe\">\n",
       "  <thead>\n",
       "    <tr style=\"text-align: right;\">\n",
       "      <th></th>\n",
       "      <th>METER_NO</th>\n",
       "      <th>MEASURING_POINT</th>\n",
       "      <th>STATUS</th>\n",
       "      <th>DATE_TIME</th>\n",
       "      <th>CHANNEL</th>\n",
       "      <th>DATA_VALUE</th>\n",
       "      <th>UNIT_MEASUREMENT</th>\n",
       "      <th>CODE_OBIS</th>\n",
       "      <th>TRANSFORMER</th>\n",
       "      <th>REGION</th>\n",
       "    </tr>\n",
       "  </thead>\n",
       "  <tbody>\n",
       "    <tr>\n",
       "      <th>0</th>\n",
       "      <td>2011999027</td>\n",
       "      <td>NaN</td>\n",
       "      <td>Unknown</td>\n",
       "      <td>2022/11/09 13:00:00</td>\n",
       "      <td>L3 Last average voltage</td>\n",
       "      <td>7</td>\n",
       "      <td>V</td>\n",
       "      <td>1.0.72.25.0.255</td>\n",
       "      <td>NaN</td>\n",
       "      <td>NaN</td>\n",
       "    </tr>\n",
       "    <tr>\n",
       "      <th>1</th>\n",
       "      <td>2011999027</td>\n",
       "      <td>NaN</td>\n",
       "      <td>Unknown</td>\n",
       "      <td>2022/11/09 13:45:00</td>\n",
       "      <td>DemandForReactiveExportPower</td>\n",
       "      <td>0</td>\n",
       "      <td>kW</td>\n",
       "      <td>1.0.4.4.0.255</td>\n",
       "      <td>NaN</td>\n",
       "      <td>NaN</td>\n",
       "    </tr>\n",
       "    <tr>\n",
       "      <th>2</th>\n",
       "      <td>2011999027</td>\n",
       "      <td>NaN</td>\n",
       "      <td>Unknown</td>\n",
       "      <td>2022/11/09 12:45:00</td>\n",
       "      <td>Interval-LP Export kWh</td>\n",
       "      <td>0</td>\n",
       "      <td>kWh</td>\n",
       "      <td>1.0.2.29.0.255</td>\n",
       "      <td>NaN</td>\n",
       "      <td>NaN</td>\n",
       "    </tr>\n",
       "    <tr>\n",
       "      <th>3</th>\n",
       "      <td>2011999027</td>\n",
       "      <td>NaN</td>\n",
       "      <td>Unknown</td>\n",
       "      <td>2022/07/29 07:15:00</td>\n",
       "      <td>L1 Last average voltage</td>\n",
       "      <td>131.9</td>\n",
       "      <td>V</td>\n",
       "      <td>1.0.32.25.0.255</td>\n",
       "      <td>NaN</td>\n",
       "      <td>NaN</td>\n",
       "    </tr>\n",
       "    <tr>\n",
       "      <th>4</th>\n",
       "      <td>2011999027</td>\n",
       "      <td>NaN</td>\n",
       "      <td>Unknown</td>\n",
       "      <td>2022/07/29 08:30:00</td>\n",
       "      <td>Interval-LP Import kVarh</td>\n",
       "      <td>0</td>\n",
       "      <td>kVarh</td>\n",
       "      <td>1.0.3.29.0.255</td>\n",
       "      <td>NaN</td>\n",
       "      <td>NaN</td>\n",
       "    </tr>\n",
       "  </tbody>\n",
       "</table>\n",
       "</div>"
      ],
      "text/plain": [
       "     METER_NO MEASURING_POINT   STATUS            DATE_TIME  \\\n",
       "0  2011999027             NaN  Unknown  2022/11/09 13:00:00   \n",
       "1  2011999027             NaN  Unknown  2022/11/09 13:45:00   \n",
       "2  2011999027             NaN  Unknown  2022/11/09 12:45:00   \n",
       "3  2011999027             NaN  Unknown  2022/07/29 07:15:00   \n",
       "4  2011999027             NaN  Unknown  2022/07/29 08:30:00   \n",
       "\n",
       "                        CHANNEL DATA_VALUE UNIT_MEASUREMENT        CODE_OBIS  \\\n",
       "0       L3 Last average voltage          7                V  1.0.72.25.0.255   \n",
       "1  DemandForReactiveExportPower          0               kW    1.0.4.4.0.255   \n",
       "2        Interval-LP Export kWh          0              kWh   1.0.2.29.0.255   \n",
       "3       L1 Last average voltage      131.9                V  1.0.32.25.0.255   \n",
       "4      Interval-LP Import kVarh          0            kVarh   1.0.3.29.0.255   \n",
       "\n",
       "  TRANSFORMER REGION  \n",
       "0         NaN    NaN  \n",
       "1         NaN    NaN  \n",
       "2         NaN    NaN  \n",
       "3         NaN    NaN  \n",
       "4         NaN    NaN  "
      ]
     },
     "execution_count": 4,
     "metadata": {},
     "output_type": "execute_result"
    }
   ],
   "source": [
    "#Se revisa la cabecera y los primeros datos, se observa valores nulos en algunas columnas y hay una columna channel que contiene el valor de la variable que se está leyendo.\n",
    "#La columna status tiene un valor Unknown que se debe tratar como un NaN\n",
    "df.head()"
   ]
  },
  {
   "cell_type": "code",
   "execution_count": 5,
   "metadata": {},
   "outputs": [
    {
     "data": {
      "text/html": [
       "<div>\n",
       "<style scoped>\n",
       "    .dataframe tbody tr th:only-of-type {\n",
       "        vertical-align: middle;\n",
       "    }\n",
       "\n",
       "    .dataframe tbody tr th {\n",
       "        vertical-align: top;\n",
       "    }\n",
       "\n",
       "    .dataframe thead th {\n",
       "        text-align: right;\n",
       "    }\n",
       "</style>\n",
       "<table border=\"1\" class=\"dataframe\">\n",
       "  <thead>\n",
       "    <tr style=\"text-align: right;\">\n",
       "      <th></th>\n",
       "      <th>METER_NO</th>\n",
       "      <th>MEASURING_POINT</th>\n",
       "      <th>STATUS</th>\n",
       "      <th>DATE_TIME</th>\n",
       "      <th>CHANNEL</th>\n",
       "      <th>DATA_VALUE</th>\n",
       "      <th>UNIT_MEASUREMENT</th>\n",
       "      <th>CODE_OBIS</th>\n",
       "      <th>TRANSFORMER</th>\n",
       "      <th>REGION</th>\n",
       "    </tr>\n",
       "  </thead>\n",
       "  <tbody>\n",
       "    <tr>\n",
       "      <th>1205695</th>\n",
       "      <td>2203700612</td>\n",
       "      <td>2203700612</td>\n",
       "      <td>InstallWithActive</td>\n",
       "      <td>2023/06/21 20:00:00</td>\n",
       "      <td>Signal strength</td>\n",
       "      <td>26.0</td>\n",
       "      <td>dBm</td>\n",
       "      <td>0.0.96.12.5.255</td>\n",
       "      <td>6576</td>\n",
       "      <td>Chiquinquira</td>\n",
       "    </tr>\n",
       "    <tr>\n",
       "      <th>1205696</th>\n",
       "      <td>2203700612</td>\n",
       "      <td>2203700612</td>\n",
       "      <td>InstallWithActive</td>\n",
       "      <td>2023/06/21 16:00:00</td>\n",
       "      <td>L3 Last average voltage</td>\n",
       "      <td>121.4</td>\n",
       "      <td>V</td>\n",
       "      <td>1.0.72.25.0.255</td>\n",
       "      <td>6576</td>\n",
       "      <td>Chiquinquira</td>\n",
       "    </tr>\n",
       "    <tr>\n",
       "      <th>1205697</th>\n",
       "      <td>2203700612</td>\n",
       "      <td>2203700612</td>\n",
       "      <td>InstallWithActive</td>\n",
       "      <td>2023/06/20 20:00:00</td>\n",
       "      <td>L3 Last average voltage</td>\n",
       "      <td>121.2</td>\n",
       "      <td>V</td>\n",
       "      <td>1.0.72.25.0.255</td>\n",
       "      <td>6576</td>\n",
       "      <td>Chiquinquira</td>\n",
       "    </tr>\n",
       "    <tr>\n",
       "      <th>1205698</th>\n",
       "      <td>2203700612</td>\n",
       "      <td>2203700612</td>\n",
       "      <td>InstallWithActive</td>\n",
       "      <td>2023/06/23 18:00:00</td>\n",
       "      <td>DemandForReactiveImportPower</td>\n",
       "      <td>0.162</td>\n",
       "      <td>kW</td>\n",
       "      <td>1.0.3.4.0.255</td>\n",
       "      <td>6576</td>\n",
       "      <td>Chiquinquira</td>\n",
       "    </tr>\n",
       "    <tr>\n",
       "      <th>1205699</th>\n",
       "      <td>2203700612</td>\n",
       "      <td>2203700612</td>\n",
       "      <td>InstallWithActive</td>\n",
       "      <td>2023/06/23 13:00:00</td>\n",
       "      <td>L1 Last average current</td>\n",
       "      <td>0.62</td>\n",
       "      <td>A</td>\n",
       "      <td>1.0.31.25.0.255</td>\n",
       "      <td>6576</td>\n",
       "      <td>Chiquinquira</td>\n",
       "    </tr>\n",
       "  </tbody>\n",
       "</table>\n",
       "</div>"
      ],
      "text/plain": [
       "           METER_NO MEASURING_POINT             STATUS            DATE_TIME  \\\n",
       "1205695  2203700612      2203700612  InstallWithActive  2023/06/21 20:00:00   \n",
       "1205696  2203700612      2203700612  InstallWithActive  2023/06/21 16:00:00   \n",
       "1205697  2203700612      2203700612  InstallWithActive  2023/06/20 20:00:00   \n",
       "1205698  2203700612      2203700612  InstallWithActive  2023/06/23 18:00:00   \n",
       "1205699  2203700612      2203700612  InstallWithActive  2023/06/23 13:00:00   \n",
       "\n",
       "                              CHANNEL DATA_VALUE UNIT_MEASUREMENT  \\\n",
       "1205695               Signal strength       26.0              dBm   \n",
       "1205696       L3 Last average voltage      121.4                V   \n",
       "1205697       L3 Last average voltage      121.2                V   \n",
       "1205698  DemandForReactiveImportPower      0.162               kW   \n",
       "1205699       L1 Last average current       0.62                A   \n",
       "\n",
       "               CODE_OBIS TRANSFORMER        REGION  \n",
       "1205695  0.0.96.12.5.255        6576  Chiquinquira  \n",
       "1205696  1.0.72.25.0.255        6576  Chiquinquira  \n",
       "1205697  1.0.72.25.0.255        6576  Chiquinquira  \n",
       "1205698    1.0.3.4.0.255        6576  Chiquinquira  \n",
       "1205699  1.0.31.25.0.255        6576  Chiquinquira  "
      ]
     },
     "execution_count": 5,
     "metadata": {},
     "output_type": "execute_result"
    }
   ],
   "source": [
    "#al observar los últimos datos se observan valores válidos para variables como transformer,region,measuring_point y status.\n",
    "df.tail()"
   ]
  },
  {
   "cell_type": "code",
   "execution_count": 6,
   "metadata": {},
   "outputs": [
    {
     "data": {
      "text/plain": [
       "(1205700, 10)"
      ]
     },
     "execution_count": 6,
     "metadata": {},
     "output_type": "execute_result"
    }
   ],
   "source": [
    "df.shape"
   ]
  },
  {
   "cell_type": "code",
   "execution_count": 7,
   "metadata": {},
   "outputs": [
    {
     "data": {
      "text/plain": [
       "np.int64(1546)"
      ]
     },
     "execution_count": 7,
     "metadata": {},
     "output_type": "execute_result"
    }
   ],
   "source": [
    "#Validamos valores duplicados\n",
    "df.duplicated().sum()"
   ]
  },
  {
   "cell_type": "code",
   "execution_count": 8,
   "metadata": {},
   "outputs": [],
   "source": [
    "#Eliminamos duplicados\n",
    "df.drop_duplicates(inplace=True)"
   ]
  },
  {
   "cell_type": "code",
   "execution_count": 9,
   "metadata": {},
   "outputs": [
    {
     "data": {
      "text/plain": [
       "np.int64(0)"
      ]
     },
     "execution_count": 9,
     "metadata": {},
     "output_type": "execute_result"
    }
   ],
   "source": [
    "#Validamos nuevamente valores duplicados\n",
    "df.duplicated().sum()"
   ]
  },
  {
   "cell_type": "code",
   "execution_count": 10,
   "metadata": {},
   "outputs": [
    {
     "data": {
      "text/plain": [
       "METER_NO                0\n",
       "MEASURING_POINT     25698\n",
       "STATUS                  0\n",
       "DATE_TIME               0\n",
       "CHANNEL                 0\n",
       "DATA_VALUE              0\n",
       "UNIT_MEASUREMENT    64677\n",
       "CODE_OBIS               0\n",
       "TRANSFORMER         75955\n",
       "REGION              25698\n",
       "dtype: int64"
      ]
     },
     "execution_count": 10,
     "metadata": {},
     "output_type": "execute_result"
    }
   ],
   "source": [
    "#Los valores nulos en measuring point, region y transformer nos indica que hay información sobre la ubicación de los medidores que no está registrada\n",
    "#Los valores nulos en Unit Measurement se puede presumir que son variables sin unidad.\n",
    "df.isnull().sum()"
   ]
  },
  {
   "cell_type": "code",
   "execution_count": 11,
   "metadata": {},
   "outputs": [
    {
     "data": {
      "text/plain": [
       "CHANNEL\n",
       "Interval-LP Import kVarh        62466\n",
       "Interval-LP Export kWh          62460\n",
       "Interval-LP Export kVarh        62459\n",
       "Interval-LP Import kWh          62452\n",
       "Import kWh                      62136\n",
       "Export kWh                      62134\n",
       "Import kVarh                    61931\n",
       "Export kVarh                    61923\n",
       "Billing Status 2                58511\n",
       "L1 Last average voltage         58007\n",
       "L1 Last average current         57982\n",
       "L2 Last average current         57981\n",
       "L3 Last average current         57974\n",
       "L3 Last average voltage         57973\n",
       "L2 Last average voltage         57968\n",
       "DemandForReactiveImportPower    57735\n",
       "DemandForActiveExportPower      57734\n",
       "DemandForActiveImportPower      57734\n",
       "DemandForReactiveExportPower    57733\n",
       "Signal strength                 56884\n",
       "Billing Status                   5645\n",
       "Interval-LP Q2 kvarh              541\n",
       "Interval-LP Q4 kvarh              541\n",
       "Interval-LP Q3 kvarh              541\n",
       "Interval-LP Q1 kvarh              541\n",
       "Voltage_L3                        521\n",
       "Current_L1                        521\n",
       "Inst-Total Power Factor           521\n",
       "Voltage_L1                        521\n",
       "Voltage_L2                        521\n",
       "Current_L3                        521\n",
       "Total kWh                         521\n",
       "Current_L2                        521\n",
       "Name: count, dtype: int64"
      ]
     },
     "execution_count": 11,
     "metadata": {},
     "output_type": "execute_result"
    }
   ],
   "source": [
    "#Al revisar los valores de los canales, el canal primario que es Import kWh está en cuarta posición, se esperaba que esté de primero debido a que todos los medidores sin exepción deben tener este canal\n",
    "#Por lo tanto, se concluye que hay pérdida de datos por ausencia de canales.  \n",
    "df.CHANNEL.value_counts()"
   ]
  },
  {
   "cell_type": "code",
   "execution_count": 12,
   "metadata": {},
   "outputs": [],
   "source": [
    "#Pivotar el DataFrame \n",
    "#Se hace el pivot para poder trabajar con información estadistica sobre cualquier variable, además que si falta un canal se puede estimar en base a los otros \n",
    "df_pivot = df.pivot_table(index=['METER_NO','DATE_TIME'],\n",
    "                          columns='CHANNEL',\n",
    "                          values='DATA_VALUE',\n",
    "                          aggfunc='sum').reset_index()\n",
    "\n",
    "# Eliminar la jerarquía de las columnas ???\n",
    "df_pivot.columns.name = None\n"
   ]
  },
  {
   "cell_type": "code",
   "execution_count": 13,
   "metadata": {},
   "outputs": [],
   "source": [
    "#Se eliminan las variables que tienen muy poca frecuencia\n",
    "\n",
    "df_pivot.drop(columns=df.CHANNEL.value_counts()[df.CHANNEL.value_counts() < 10000].index,inplace=True)"
   ]
  },
  {
   "cell_type": "code",
   "execution_count": 14,
   "metadata": {},
   "outputs": [
    {
     "data": {
      "text/plain": [
       "(63389, 22)"
      ]
     },
     "execution_count": 14,
     "metadata": {},
     "output_type": "execute_result"
    }
   ],
   "source": [
    "df_pivot.shape"
   ]
  },
  {
   "cell_type": "code",
   "execution_count": 15,
   "metadata": {},
   "outputs": [
    {
     "data": {
      "text/html": [
       "<div>\n",
       "<style scoped>\n",
       "    .dataframe tbody tr th:only-of-type {\n",
       "        vertical-align: middle;\n",
       "    }\n",
       "\n",
       "    .dataframe tbody tr th {\n",
       "        vertical-align: top;\n",
       "    }\n",
       "\n",
       "    .dataframe thead th {\n",
       "        text-align: right;\n",
       "    }\n",
       "</style>\n",
       "<table border=\"1\" class=\"dataframe\">\n",
       "  <thead>\n",
       "    <tr style=\"text-align: right;\">\n",
       "      <th></th>\n",
       "      <th>METER_NO</th>\n",
       "      <th>DATE_TIME</th>\n",
       "      <th>Billing Status 2</th>\n",
       "      <th>DemandForActiveExportPower</th>\n",
       "      <th>DemandForActiveImportPower</th>\n",
       "      <th>DemandForReactiveExportPower</th>\n",
       "      <th>DemandForReactiveImportPower</th>\n",
       "      <th>Export kVarh</th>\n",
       "      <th>Export kWh</th>\n",
       "      <th>Import kVarh</th>\n",
       "      <th>...</th>\n",
       "      <th>Interval-LP Export kWh</th>\n",
       "      <th>Interval-LP Import kVarh</th>\n",
       "      <th>Interval-LP Import kWh</th>\n",
       "      <th>L1 Last average current</th>\n",
       "      <th>L1 Last average voltage</th>\n",
       "      <th>L2 Last average current</th>\n",
       "      <th>L2 Last average voltage</th>\n",
       "      <th>L3 Last average current</th>\n",
       "      <th>L3 Last average voltage</th>\n",
       "      <th>Signal strength</th>\n",
       "    </tr>\n",
       "  </thead>\n",
       "  <tbody>\n",
       "    <tr>\n",
       "      <th>0</th>\n",
       "      <td>2011999027</td>\n",
       "      <td>2022/07/23 08:00:00</td>\n",
       "      <td>0</td>\n",
       "      <td>0</td>\n",
       "      <td>0</td>\n",
       "      <td>0</td>\n",
       "      <td>0</td>\n",
       "      <td>1.405</td>\n",
       "      <td>2.296</td>\n",
       "      <td>1.457</td>\n",
       "      <td>...</td>\n",
       "      <td>0</td>\n",
       "      <td>0</td>\n",
       "      <td>0</td>\n",
       "      <td>0</td>\n",
       "      <td>131.9</td>\n",
       "      <td>0</td>\n",
       "      <td>0</td>\n",
       "      <td>0</td>\n",
       "      <td>0</td>\n",
       "      <td>NaN</td>\n",
       "    </tr>\n",
       "    <tr>\n",
       "      <th>1</th>\n",
       "      <td>2011999027</td>\n",
       "      <td>2022/07/23 08:15:00</td>\n",
       "      <td>0</td>\n",
       "      <td>0</td>\n",
       "      <td>0</td>\n",
       "      <td>0</td>\n",
       "      <td>0</td>\n",
       "      <td>1.405</td>\n",
       "      <td>2.296</td>\n",
       "      <td>1.457</td>\n",
       "      <td>...</td>\n",
       "      <td>0</td>\n",
       "      <td>0</td>\n",
       "      <td>0</td>\n",
       "      <td>0</td>\n",
       "      <td>132.5</td>\n",
       "      <td>0</td>\n",
       "      <td>0</td>\n",
       "      <td>0</td>\n",
       "      <td>0</td>\n",
       "      <td>NaN</td>\n",
       "    </tr>\n",
       "    <tr>\n",
       "      <th>2</th>\n",
       "      <td>2011999027</td>\n",
       "      <td>2022/07/23 08:30:00</td>\n",
       "      <td>0</td>\n",
       "      <td>0</td>\n",
       "      <td>0</td>\n",
       "      <td>0</td>\n",
       "      <td>0</td>\n",
       "      <td>1.405</td>\n",
       "      <td>2.296</td>\n",
       "      <td>1.457</td>\n",
       "      <td>...</td>\n",
       "      <td>0</td>\n",
       "      <td>0</td>\n",
       "      <td>0</td>\n",
       "      <td>0</td>\n",
       "      <td>132.7</td>\n",
       "      <td>0</td>\n",
       "      <td>0</td>\n",
       "      <td>0</td>\n",
       "      <td>0</td>\n",
       "      <td>NaN</td>\n",
       "    </tr>\n",
       "    <tr>\n",
       "      <th>3</th>\n",
       "      <td>2011999027</td>\n",
       "      <td>2022/07/23 08:45:00</td>\n",
       "      <td>0</td>\n",
       "      <td>0</td>\n",
       "      <td>0</td>\n",
       "      <td>0</td>\n",
       "      <td>0</td>\n",
       "      <td>1.405</td>\n",
       "      <td>2.296</td>\n",
       "      <td>1.457</td>\n",
       "      <td>...</td>\n",
       "      <td>0</td>\n",
       "      <td>0</td>\n",
       "      <td>0</td>\n",
       "      <td>0</td>\n",
       "      <td>131.8</td>\n",
       "      <td>0</td>\n",
       "      <td>0</td>\n",
       "      <td>0</td>\n",
       "      <td>0</td>\n",
       "      <td>NaN</td>\n",
       "    </tr>\n",
       "    <tr>\n",
       "      <th>4</th>\n",
       "      <td>2011999027</td>\n",
       "      <td>2022/07/23 09:00:00</td>\n",
       "      <td>0</td>\n",
       "      <td>0</td>\n",
       "      <td>0</td>\n",
       "      <td>0</td>\n",
       "      <td>0</td>\n",
       "      <td>1.405</td>\n",
       "      <td>2.296</td>\n",
       "      <td>1.457</td>\n",
       "      <td>...</td>\n",
       "      <td>0</td>\n",
       "      <td>0</td>\n",
       "      <td>0</td>\n",
       "      <td>0</td>\n",
       "      <td>131.5</td>\n",
       "      <td>0</td>\n",
       "      <td>0</td>\n",
       "      <td>0</td>\n",
       "      <td>0</td>\n",
       "      <td>NaN</td>\n",
       "    </tr>\n",
       "  </tbody>\n",
       "</table>\n",
       "<p>5 rows × 22 columns</p>\n",
       "</div>"
      ],
      "text/plain": [
       "     METER_NO            DATE_TIME Billing Status 2  \\\n",
       "0  2011999027  2022/07/23 08:00:00                0   \n",
       "1  2011999027  2022/07/23 08:15:00                0   \n",
       "2  2011999027  2022/07/23 08:30:00                0   \n",
       "3  2011999027  2022/07/23 08:45:00                0   \n",
       "4  2011999027  2022/07/23 09:00:00                0   \n",
       "\n",
       "  DemandForActiveExportPower DemandForActiveImportPower  \\\n",
       "0                          0                          0   \n",
       "1                          0                          0   \n",
       "2                          0                          0   \n",
       "3                          0                          0   \n",
       "4                          0                          0   \n",
       "\n",
       "  DemandForReactiveExportPower DemandForReactiveImportPower Export kVarh  \\\n",
       "0                            0                            0        1.405   \n",
       "1                            0                            0        1.405   \n",
       "2                            0                            0        1.405   \n",
       "3                            0                            0        1.405   \n",
       "4                            0                            0        1.405   \n",
       "\n",
       "  Export kWh Import kVarh  ... Interval-LP Export kWh  \\\n",
       "0      2.296        1.457  ...                      0   \n",
       "1      2.296        1.457  ...                      0   \n",
       "2      2.296        1.457  ...                      0   \n",
       "3      2.296        1.457  ...                      0   \n",
       "4      2.296        1.457  ...                      0   \n",
       "\n",
       "  Interval-LP Import kVarh Interval-LP Import kWh L1 Last average current  \\\n",
       "0                        0                      0                       0   \n",
       "1                        0                      0                       0   \n",
       "2                        0                      0                       0   \n",
       "3                        0                      0                       0   \n",
       "4                        0                      0                       0   \n",
       "\n",
       "  L1 Last average voltage L2 Last average current L2 Last average voltage  \\\n",
       "0                   131.9                       0                       0   \n",
       "1                   132.5                       0                       0   \n",
       "2                   132.7                       0                       0   \n",
       "3                   131.8                       0                       0   \n",
       "4                   131.5                       0                       0   \n",
       "\n",
       "  L3 Last average current L3 Last average voltage Signal strength  \n",
       "0                       0                       0             NaN  \n",
       "1                       0                       0             NaN  \n",
       "2                       0                       0             NaN  \n",
       "3                       0                       0             NaN  \n",
       "4                       0                       0             NaN  \n",
       "\n",
       "[5 rows x 22 columns]"
      ]
     },
     "execution_count": 15,
     "metadata": {},
     "output_type": "execute_result"
    }
   ],
   "source": [
    "df_pivot.head()"
   ]
  },
  {
   "cell_type": "code",
   "execution_count": 16,
   "metadata": {},
   "outputs": [
    {
     "data": {
      "text/plain": [
       "METER_NO                        object\n",
       "DATE_TIME                       object\n",
       "Billing Status 2                object\n",
       "DemandForActiveExportPower      object\n",
       "DemandForActiveImportPower      object\n",
       "DemandForReactiveExportPower    object\n",
       "DemandForReactiveImportPower    object\n",
       "Export kVarh                    object\n",
       "Export kWh                      object\n",
       "Import kVarh                    object\n",
       "Import kWh                      object\n",
       "Interval-LP Export kVarh        object\n",
       "Interval-LP Export kWh          object\n",
       "Interval-LP Import kVarh        object\n",
       "Interval-LP Import kWh          object\n",
       "L1 Last average current         object\n",
       "L1 Last average voltage         object\n",
       "L2 Last average current         object\n",
       "L2 Last average voltage         object\n",
       "L3 Last average current         object\n",
       "L3 Last average voltage         object\n",
       "Signal strength                 object\n",
       "dtype: object"
      ]
     },
     "execution_count": 16,
     "metadata": {},
     "output_type": "execute_result"
    }
   ],
   "source": [
    "#Se analiza la variable DATE_TIME\n",
    "df_pivot.dtypes"
   ]
  },
  {
   "cell_type": "code",
   "execution_count": 22,
   "metadata": {},
   "outputs": [],
   "source": [
    "#Ajustamos la columna de fecha a datetime\n",
    "df_pivot['DATE_TIME'] = pd.to_datetime(df_pivot['DATE_TIME'])\n"
   ]
  },
  {
   "cell_type": "code",
   "execution_count": 23,
   "metadata": {},
   "outputs": [
    {
     "data": {
      "text/plain": [
       "METER_NO                                object\n",
       "DATE_TIME                       datetime64[ns]\n",
       "Billing Status 2                        object\n",
       "DemandForActiveExportPower              object\n",
       "DemandForActiveImportPower              object\n",
       "DemandForReactiveExportPower            object\n",
       "DemandForReactiveImportPower            object\n",
       "Export kVarh                            object\n",
       "Export kWh                              object\n",
       "Import kVarh                            object\n",
       "Import kWh                              object\n",
       "Interval-LP Export kVarh                object\n",
       "Interval-LP Export kWh                  object\n",
       "Interval-LP Import kVarh                object\n",
       "Interval-LP Import kWh                  object\n",
       "L1 Last average current                 object\n",
       "L1 Last average voltage                 object\n",
       "L2 Last average current                 object\n",
       "L2 Last average voltage                 object\n",
       "L3 Last average current                 object\n",
       "L3 Last average voltage                 object\n",
       "Signal strength                         object\n",
       "dtype: object"
      ]
     },
     "execution_count": 23,
     "metadata": {},
     "output_type": "execute_result"
    }
   ],
   "source": [
    "df_pivot.dtypes"
   ]
  },
  {
   "cell_type": "code",
   "execution_count": 24,
   "metadata": {},
   "outputs": [
    {
     "data": {
      "text/plain": [
       "<Axes: >"
      ]
     },
     "execution_count": 24,
     "metadata": {},
     "output_type": "execute_result"
    },
    {
     "data": {
      "image/png": "[encoded data removed]",
      "text/plain": [
       "<Figure size 640x480 with 1 Axes>"
      ]
     },
     "metadata": {},
     "output_type": "display_data"
    }
   ],
   "source": [
    "#Analizamos la columna datetime\n",
    "df_pivot['DATE_TIME'].hist(bins=50)"
   ]
  },
  {
   "cell_type": "code",
   "execution_count": 33,
   "metadata": {},
   "outputs": [
    {
     "data": {
      "image/png": "[encoded data removed]",
      "text/plain": [
       "<Figure size 1000x600 with 1 Axes>"
      ]
     },
     "metadata": {},
     "output_type": "display_data"
    }
   ],
   "source": [
    "#Al analizar el histograma se observa un hueco de información importante y que persiste data muy vieja\n",
    "df['hour'] = df_pivot['DATE_TIME'].dt.hour\n",
    "\n",
    "hour_counts = df['hour'].value_counts().sort_index() \n",
    "plt.figure(figsize=(10, 6))\n",
    "hour_counts.plot(kind='bar', color='skyblue')\n",
    "plt.xlabel('Hora del día')\n",
    "plt.ylabel('Cantidad')\n",
    "plt.title('Distribución de eventos por hora del día')\n",
    "plt.show()"
   ]
  },
  {
   "cell_type": "code",
   "execution_count": null,
   "metadata": {},
   "outputs": [],
   "source": [
    "#CONLUSIONES\n",
    "\n",
    "#COLUMNA DATETIME\n",
    "#Al hacer el ánalisis univariable de la columna DATE_TIME se evidencia que hora a hora se pierde información de los medidores, el sistema transaccional en sí debería recuperar la información\n",
    "#sin embargo, se considera conveniente trabajar en estimaciones sobre los valores nulos para tener un dataset más completo para obtener anomalías más díficiles de detectar basadas en la medida y la integridad de los datos\n",
    "\n"
   ]
  }
 ],
 "metadata": {
  "kernelspec": {
   "display_name": "Python 3",
   "language": "python",
   "name": "python3"
  },
  "language_info": {
   "codemirror_mode": {
    "name": "ipython",
    "version": 3
   },
   "file_extension": ".py",
   "mimetype": "text/x-python",
   "name": "python",
   "nbconvert_exporter": "python",
   "pygments_lexer": "ipython3",
   "version": "3.12.5"
  }
 },
 "nbformat": 4,
 "nbformat_minor": 2
}
